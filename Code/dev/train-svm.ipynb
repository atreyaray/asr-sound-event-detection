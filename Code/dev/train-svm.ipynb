{
 "cells": [
  {
   "cell_type": "markdown",
   "metadata": {},
   "source": [
    "# Train SVM File\n",
    "***\n",
    "\n",
    "1. Import libraries\n",
    "2. Load preprocessed data\n",
    "3. Train SVM\n",
    "4. Save model"
   ]
  },
  {
   "cell_type": "code",
   "execution_count": null,
   "metadata": {},
   "outputs": [],
   "source": [
    "# 1. import libraries\n",
    "import numpy as np\n",
    "import pandas as pd\n",
    "# import svm classifier from sklearn\n",
    "from sklearn.svm import SVC\n"
   ]
  }
 ],
 "metadata": {
  "kernelspec": {
   "display_name": "Python 2.7.18 ('venv': venv)",
   "language": "python",
   "name": "python3"
  },
  "language_info": {
   "name": "python",
   "version": "2.7.18"
  },
  "orig_nbformat": 4,
  "vscode": {
   "interpreter": {
    "hash": "03a7380898ef73343a89e1d6af6d69118674bdbb6fe3df56b6cf903f12f0b6ca"
   }
  }
 },
 "nbformat": 4,
 "nbformat_minor": 2
}
