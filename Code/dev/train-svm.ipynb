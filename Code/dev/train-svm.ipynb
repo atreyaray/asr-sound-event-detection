{
 "cells": [
  {
   "cell_type": "markdown",
   "metadata": {},
   "source": [
    "# Train SVM File\n",
    "***\n",
    "\n",
    "1. Import libraries\n",
    "2. Load preprocessed data\n",
    "3. Train SVM\n",
    "4. Save model"
   ]
  },
  {
   "cell_type": "code",
   "execution_count": null,
   "metadata": {},
   "outputs": [],
   "source": [
    "# 1. import libraries\n",
    "import numpy as np\n",
    "import pandas as pd\n",
    "# import svm classifier from sklearn\n",
    "from sklearn.svm import SVC\n"
   ]
  },
  {
   "cell_type": "code",
   "execution_count": null,
   "metadata": {},
   "outputs": [],
   "source": [
    "# constants\n",
    "\n",
    "CV = 5"
   ]
  },
  {
   "cell_type": "code",
   "execution_count": null,
   "metadata": {},
   "outputs": [],
   "source": [
    "# list of test accuracies\n",
    "test_acc = []\n",
    "\n",
    "for iteration in range(CV) :\n",
    "    \n",
    "    print(\"K-Fold Cross Validation Iteration: \", iteration)\n",
    "\n",
    "    # load data from numpy array\n",
    "    X_train = np.load('X_train_' + str(iteration) + '.npy')\n",
    "    y_train = np.load('y_train_' + str(iteration) + '.npy')\n",
    "    X_val = np.load('X_val_' + str(iteration) + '.npy')\n",
    "    y_val = np.load('y_val_' + str(iteration) + '.npy')\n",
    "    X_test = np.load('X_test_' + str(iteration) + '.npy')\n",
    "    y_test = np.load('y_test_' + str(iteration) + '.npy')\n",
    "\n",
    "    # tune the hyperparameters\n",
    "    # 1. Kernel type\n",
    "    # 2. C\n",
    "    kernels = ['linear', 'poly', 'rbf', 'sigmoid']\n",
    "    C = np.logspace(-3, 3)\n",
    "\n",
    "\n",
    "    val_acc = np.zeros((len(kernels), len(C)))\n",
    "\n",
    "\n",
    "    for kernel in kernels :\n",
    "        for c in C :\n",
    "            # create a svm classifier\n",
    "            svm = SVC(kernel=kernel, C=c)\n",
    "            # fit the model\n",
    "            svm.fit(X_train, y_train)\n",
    "            # predict the model\n",
    "            y_pred = svm.predict(X_val)\n",
    "            # calculate the accuracy\n",
    "            accuracy = np.sum(y_pred == y_val) / len(y_val)\n",
    "            # append the validation accuracy to the list\n",
    "            val_acc[kernels.index(kernel), C.index(c)] = accuracy\n",
    "\n",
    "    # get the best hyperparameters\n",
    "    best_kernel = kernels[np.argmax(val_acc) // len(C)]\n",
    "    best_C = C[np.argmax(val_acc) % len(C)]\n",
    "\n",
    "    # create a svm classifier with the best hyperparameters\n",
    "    svm = SVC(kernel=best_kernel, C=best_C)\n",
    "\n",
    "    # fit the model with the training data\n",
    "    svm.fit(X_train, y_train)\n",
    "\n",
    "    # predict the model with the test data\n",
    "    y_pred = svm.predict(X_test)\n",
    "\n",
    "\n",
    "    # calculate the accuracy\n",
    "    accuracy = np.sum(y_pred == y_test) / len(y_test)\n",
    "\n",
    "    print(\"Fold\", iteration, \"Test Accuracy: \", accuracy)\n",
    "\n",
    "    # append the test accuracy to the list\n",
    "    test_acc.append(accuracy)\n",
    "\n",
    "\n",
    "print('The average test accuracy is: ', np.mean(test_acc))\n"
   ]
  }
 ],
 "metadata": {
  "kernelspec": {
   "display_name": "Python 3.8.3 ('venv': venv)",
   "language": "python",
   "name": "python3"
  },
  "language_info": {
   "name": "python",
   "version": "3.8.3"
  },
  "orig_nbformat": 4,
  "vscode": {
   "interpreter": {
    "hash": "e76e234acac390f0d7d2766ca97c27f852d709d47936c002238c1c1e110ff6f2"
   }
  }
 },
 "nbformat": 4,
 "nbformat_minor": 2
}
